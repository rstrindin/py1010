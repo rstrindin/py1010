{
 "cells": [
  {
   "cell_type": "markdown",
   "id": "9984be4b-7213-4e58-a926-f629ef27e4ba",
   "metadata": {},
   "source": [
    "# Arbeidskrav 1\n",
    "\n",
    "## Robert Strindin\n",
    "\n",
    "### 2024.11.08"
   ]
  },
  {
   "cell_type": "code",
   "execution_count": 27,
   "id": "1013d0a6-2562-490d-ab52-9d378a35a6e0",
   "metadata": {},
   "outputs": [],
   "source": [
    "'''\n",
    "Oppgave:\n",
    "\n",
    "Anta at du skal kjøpe bil. Det står mellom elbil og bensinbil, og du ønsker å sammenlikne de årlige \n",
    "kostnadene ved elbil sammenliknet med bensinbil.\n",
    "\n",
    "Lag et Python-program som beregner og presenterer (i konsollen) de årlige totalkostnadene for elbil og \n",
    "for bensinbil samt årlig kostnadsdifferanse basert på informasjonen gitt nedenfor. \n",
    "Du kan her for enkelhets skyld se bort fra kostnader som renter på billån og verditap \n",
    "(du har da egentlig antatt at slike kostnader er like for elbil og bensinbil).\n",
    "\n",
    "Nedenfor er informasjon som programmet skal baseres på (som selvsagt kan diskuteres, men ikke ifm. denne oppgave\n",
    "* Du kan selv velge antall kjørte km/år ut fra din typiske bilbruk. Ev. (hvis du ikke har bil) kan du anta 10.000 km.\n",
    "* Forsikring: Elbil: 5000 kr/år. Bensinbil: 7500 kr/år.\n",
    "* Trafikkforsikringsavgift: 8,38 kr/dag for både elbil og bensinbil.\n",
    "* Drivstoffbruk: Elbil: 0,2 kWh/km. Strømpris (antar kun hjemmelading): 2.00 kr/kWh. Bensinbil: 1,0 kr/km.\n",
    "* Bomavgift: Elbil: 0,1 kr/km. Bensinbil: 0,3 kr/km. 0,3 kr/km.\n",
    "\n",
    "'''\n",
    "\n",
    "#Årlig kjørelengde i km\n",
    "aarligKjoerelengde = 10000\n",
    "\n",
    "#Årspremie for forsikring\n",
    "forsikringElbil = 5000\n",
    "forsikringBensinbil = 7500\n",
    "\n",
    "#Trafikkforsikringsavgift pr. dag\n",
    "trafikkforsikringsavgift = 8.38\n",
    "\n",
    "#Drivstoffbruk pr. km i kroner\n",
    "forbrukElbil = 0.2*2   #0.2 kWh/km  2.00 kr/kWh\n",
    "forbrukBensinbil = 1   #1.00 kr/km\n",
    "\n",
    "#Bomavgift pr. km\n",
    "bomavgiftElbil = 0.1\n",
    "bomavgiftBensinbil = 0.3"
   ]
  },
  {
   "cell_type": "code",
   "execution_count": 20,
   "id": "3807026b-e8c5-47a0-a569-9443e2a452fb",
   "metadata": {},
   "outputs": [
    {
     "name": "stdout",
     "output_type": "stream",
     "text": [
      "Årlig kostnad:\n",
      "Elbil= 13058.7 kr.\n",
      "Bensinbil= 23558.7 kr.\n",
      "Differanse= 10500.0 kr.\n"
     ]
    }
   ],
   "source": [
    "aarligKostnadElbil = forsikringElbil + trafikkforsikringsavgift*365 + (forbrukElbil + bomavgiftElbil)*aarligKjoerelengde\n",
    "\n",
    "aarligKostnadBensinbil = forsikringBensinbil + trafikkforsikringsavgift*365 + (forbrukBensinbil + bomavgiftBensinbil)*aarligKjoerelengde\n",
    "\n",
    "print ('Årlig kostnad:')\n",
    "print ('Elbil=', aarligKostnadElbil, 'kr.')\n",
    "print ('Bensinbil=', aarligKostnadBensinbil, 'kr.')\n",
    "print ('Differanse=', aarligKostnadBensinbil - aarligKostnadElbil, 'kr.')"
   ]
  },
  {
   "cell_type": "code",
   "execution_count": null,
   "id": "6d7dcd1d-0caf-4230-8904-46157cffc82d",
   "metadata": {},
   "outputs": [],
   "source": []
  }
 ],
 "metadata": {
  "kernelspec": {
   "display_name": "Python 3 (ipykernel)",
   "language": "python",
   "name": "python3"
  },
  "language_info": {
   "codemirror_mode": {
    "name": "ipython",
    "version": 3
   },
   "file_extension": ".py",
   "mimetype": "text/x-python",
   "name": "python",
   "nbconvert_exporter": "python",
   "pygments_lexer": "ipython3",
   "version": "3.12.4"
  }
 },
 "nbformat": 4,
 "nbformat_minor": 5
}
