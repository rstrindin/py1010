{
 "cells": [
  {
   "cell_type": "markdown",
   "id": "7252ac3d-6349-4283-b25f-6ed6bf12675b",
   "metadata": {},
   "source": [
    "# Arbeidskrav 2\n",
    "\n",
    "## Robert Strindin\n",
    "\n",
    "### 2025.01.17\n",
    "\n",
    "\n",
    "\n"
   ]
  },
  {
   "cell_type": "markdown",
   "id": "6a65bea3-92b5-48b3-9e6c-1a740ea2f05b",
   "metadata": {},
   "source": [
    "### Oppgave 1\n",
    "\n",
    "Programmet skal så regne ut hvor gammel personen blir nå i løpet av år 2024 og skrive\r\n",
    "svaret til skjerm med passende tekst."
   ]
  },
  {
   "cell_type": "code",
   "execution_count": 9,
   "id": "6dbda0b5-9fd8-4ce1-a8ac-5526ae87fd5d",
   "metadata": {},
   "outputs": [
    {
     "name": "stdin",
     "output_type": "stream",
     "text": [
      "Hvilket år er du født? 1928\n"
     ]
    },
    {
     "name": "stdout",
     "output_type": "stream",
     "text": [
      "I løpat av 2024 fyller du 96 år\n"
     ]
    }
   ],
   "source": [
    "alder = int(input('Hvilket år er du født?'))\n",
    "\n",
    "alder = 2024 - alder\n",
    "\n",
    "print ('I løpat av 2024 fyller du', alder, 'år')"
   ]
  },
  {
   "cell_type": "markdown",
   "id": "08620df8-1271-417d-8cba-3c38dc5b2d89",
   "metadata": {},
   "source": [
    "### Oppgave 2\n",
    "\n",
    "Det skal arrangeres en klassefest og man antar at hver elev spiser 1/4 pizza. Lag et\r\n",
    "program som tar inn antall elever fra konsollen \n",
    "Programmet skal så regne ut hvor mange pizzaer som skal handles inn til festen og skrive\r\n",
    "svaret til skjerm. Merk, man kan ikke kjøpe 4 og en kvart pizza på butikken (man må da kjøpe\r\n",
    "5).\n"
   ]
  },
  {
   "cell_type": "code",
   "execution_count": 11,
   "id": "402761f8-d6a0-4702-804b-e6608d6529a0",
   "metadata": {},
   "outputs": [
    {
     "name": "stdin",
     "output_type": "stream",
     "text": [
      "Skriv inn antall elever: 13\n"
     ]
    },
    {
     "name": "stdout",
     "output_type": "stream",
     "text": [
      "Det må kjøpes inn 4 pizzaer.\n"
     ]
    }
   ],
   "source": [
    "import numpy as np\n",
    "\n",
    "andel_pizza_pr_elev = 1/4   # Hver elev spiser 1/4 pizza hver\n",
    "\n",
    "antall_elever = int(input('Skriv inn antall elever:'))\n",
    "\n",
    "antall_pizzaer = np.ceil(antall_elever * andel_pizza_pr_elev)  # Antall hele pizzaer som må bestilles\n",
    "\n",
    "print (f'Det må kjøpes inn {int(antall_pizzaer)} pizzaer.')\n"
   ]
  },
  {
   "cell_type": "markdown",
   "id": "16c638d7-0e5f-4da7-bc1e-477dbc7bf407",
   "metadata": {},
   "source": [
    "### Oppgave 3\n",
    "\n",
    "Lag et program med en funksjon som regner om fra grader til radianer."
   ]
  },
  {
   "cell_type": "code",
   "execution_count": 15,
   "id": "fb87d8ef-a939-455b-9c3b-435fe909bb26",
   "metadata": {},
   "outputs": [
    {
     "name": "stdin",
     "output_type": "stream",
     "text": [
      "Skriv inn gradtallet: 180\n"
     ]
    },
    {
     "name": "stdout",
     "output_type": "stream",
     "text": [
      "180.00 grader = 3.14 radianer.\n"
     ]
    }
   ],
   "source": [
    "import numpy as np\n",
    "\n",
    "def gradTilRad (grad):\n",
    "    return grad*np.pi/180\n",
    "\n",
    "v_grad = float(input('Skriv inn gradtallet:'))\n",
    "v_rad = gradTilRad (v_grad)\n",
    "\n",
    "print (f'{v_grad:.2f} grader = {v_rad:.2f} radianer.')"
   ]
  },
  {
   "cell_type": "markdown",
   "id": "34f0fcab-68a7-4a52-b9e5-393dd2d83bb1",
   "metadata": {},
   "source": [
    "#### Oppgave 4\r\n",
    "\r\n",
    "a) Opprett en dictionary som gitt under. Dictionaryen har ulike land som nøkkel (Keys)\r\n",
    "og gir info om hovedstaden i landet og antall innbyggere i mill. i hovedstaden.\r\n",
    "\r\n",
    "b) Lag et program som ber brukeren skrive inn et land (eksempelvis England).\r\n",
    "Programmet skal på bakgrunn av dette skrive ut følgende setning:\r\n",
    "London er hovedstaden i England og det er 8.982 mill. innbyggere i London.\r\n",
    "\r\n",
    "c) Lag et program som ber brukeren skrive inn info om et nytt land (altså et land som\r\n",
    "ikke allerede finnes i dictionaryen data). Videre skal brukeren oppgi hovedstad og\r\n",
    "antall innbyggere for det «nye» landet. Programmet skal så utvide/oppdatere\r\n",
    "dictionaryen med den nye informasjonen. Dictionaryen data skrives så til skjerml skjerm"
   ]
  },
  {
   "cell_type": "code",
   "execution_count": 17,
   "id": "2e6edefd-e21e-4ad7-8bc8-4766b83ac719",
   "metadata": {},
   "outputs": [
    {
     "name": "stdin",
     "output_type": "stream",
     "text": [
      "Skriv inn et land:  Italia\n"
     ]
    },
    {
     "name": "stdout",
     "output_type": "stream",
     "text": [
      "Roma er hovedstaden i Italia, og det er 2.873 mill. innbyggere i Roma\n"
     ]
    }
   ],
   "source": [
    "# Oppgave b\n",
    "\n",
    "data = {\n",
    "    \"Norge\": [\"Oslo\", 0.634],\n",
    "    \"England\": [\"London\", 8.982],\n",
    "    \"Frankrike\": [\"Paris\", 2.161],\n",
    "    \"Italia\": [\"Roma\", 2.873]\n",
    "}\n",
    "\n",
    "land       = input('Skriv inn et land: ')\n",
    "hovedstad  = data[land][0]\n",
    "innbyggere = data[land][1]\n",
    "\n",
    "print (f'{hovedstad} er hovedstaden i {land}, og det er {innbyggere} mill. innbyggere i {hovedstad}')"
   ]
  },
  {
   "cell_type": "code",
   "execution_count": 19,
   "id": "e7b664cb-4859-41b2-8f0f-4a355470b3a6",
   "metadata": {},
   "outputs": [
    {
     "name": "stdin",
     "output_type": "stream",
     "text": [
      "Skriv inn et nytt land:  Sverige\n",
      "Skriv inn hovedstaden i Sverige:  Stockholm\n",
      "Skriv inn antall innbyggere i Stockholm:  1.876\n"
     ]
    },
    {
     "name": "stdout",
     "output_type": "stream",
     "text": [
      "{'Norge': ['Oslo', 0.634], 'England': ['London', 8.982], 'Frankrike': ['Paris', 2.161], 'Italia': ['Roma', 2.873], 'Sverige': ['Stockholm', '1.876']}\n"
     ]
    }
   ],
   "source": [
    "# Oppgave c\n",
    "\n",
    "data = {\n",
    "    \"Norge\": [\"Oslo\", 0.634],\n",
    "    \"England\": [\"London\", 8.982],\n",
    "    \"Frankrike\": [\"Paris\", 2.161],\n",
    "    \"Italia\": [\"Roma\", 2.873]\n",
    "}\n",
    "\n",
    "land       = input('Skriv inn et nytt land: ')\n",
    "hovedstad  = input(f'Skriv inn hovedstaden i {land}: ')\n",
    "innbyggere = input(f'Skriv inn antall innbyggere i {hovedstad}: ')\n",
    "\n",
    "data[land] = [hovedstad, innbyggere]\n",
    "\n",
    "print (data)"
   ]
  },
  {
   "cell_type": "markdown",
   "id": "8b0e2a4c-9f91-467c-8f58-60d3b515dc14",
   "metadata": {},
   "source": [
    "#### Oppgave 5\n",
    "\n",
    "Lag et program med en funksjon som tar a og b som inn-argumenter og som så\r\n",
    "regner ut arealet og «ytre» omkrets til en figur satt sammen av en rettvinklet trekant og en\r\n",
    "halvsirkel, se figuren under. Med «ytre» omkrets menes samlet lengde av de sorte strekene.\r\n",
    "Funksjonen skal returnere arealet og «ytre» omkrets, som så skrives til skjerm med passende\r\n",
    "tekst"
   ]
  },
  {
   "cell_type": "code",
   "execution_count": 7,
   "id": "8cfbcce2-5d06-4604-9fdf-1c72b6d4cf4a",
   "metadata": {},
   "outputs": [
    {
     "name": "stdin",
     "output_type": "stream",
     "text": [
      "Skriv inn verdi for a:  5\n",
      "Skriv inn verdi for b:  6\n"
     ]
    },
    {
     "name": "stdout",
     "output_type": "stream",
     "text": [
      "Areal av figur:  24.817477042468106\n",
      "Omkrets av figur:  21.66423130988114\n"
     ]
    }
   ],
   "source": [
    "import math\n",
    "\n",
    "def beregnArealOmkrets (a, b):\n",
    "    areal_sirkel = math.pi * (a / 2)**2   # Arealet av hele sirkelen\n",
    "    omkrets_sirkel = math.pi * a          # Omkretsen av hele sirkelen\n",
    "\n",
    "    areal_trekant = (a * b) / 2\n",
    "\n",
    "    c = math.sqrt(a**2 + b**2)      # c er hypotenusen i trekanten  c^2 = a^2 + b^2\n",
    "    omkrets_trekant = a + b + c     # Omkrets av hele trekanten\n",
    "\n",
    "    areal   = (areal_sirkel / 2) + areal_trekant           # Arealet av halve sirkelen + arealet av trekant\n",
    "    omkrets = (omkrets_sirkel / 2) + (omkrets_trekant - a) # Omkrets av en halv sirkel + omkrets av sidene b + c i trekant\n",
    "\n",
    "    return areal, omkrets\n",
    "\n",
    "\n",
    "a = float(input('Skriv inn verdi for a: '))\n",
    "b = float(input('Skriv inn verdi for b: '))\n",
    "\n",
    "areal_figur, omkrets_figur = beregnArealOmkrets(a, b)\n",
    "\n",
    "print ('Areal av figur: ', areal_figur)\n",
    "print ('Omkrets av figur: ', omkrets_figur)\n",
    "\n",
    "\n"
   ]
  },
  {
   "cell_type": "markdown",
   "id": "1ffa7eab-7207-462a-89c0-cfba8208e82e",
   "metadata": {},
   "source": [
    "#### Oppgave 6\n",
    "\n",
    "Skriv en kode som plotter funksjonen 𝑓(𝑥) = −𝑥2 − 5, for x på intervallet [-10,10].\n",
    "\r\n",
    "Hint: np.linspace(-10, 10, 200) gir en array med 200 punkter jevnt fordelt på intervallet\r\n",
    "[-10,10]"
   ]
  },
  {
   "cell_type": "code",
   "execution_count": 5,
   "id": "77bd4c29-5ac4-4f6d-9880-eb50d62332fc",
   "metadata": {},
   "outputs": [
    {
     "data": {
      "text/plain": [
       "[<matplotlib.lines.Line2D at 0x23ecd96c8f0>]"
      ]
     },
     "execution_count": 5,
     "metadata": {},
     "output_type": "execute_result"
    },
    {
     "data": {
      "image/png": "[encoded data removed]",
      "text/plain": [
       "<Figure size 640x480 with 1 Axes>"
      ]
     },
     "metadata": {},
     "output_type": "display_data"
    }
   ],
   "source": [
    "import numpy as np\n",
    "import matplotlib.pyplot as plt\n",
    "\n",
    "x = np.linspace(-10, 10, 200)   # Lager en array med 200 verdier mellom -10 og 10\n",
    "y = -x**2 - 5                   # Lager en array med funksjonsverdi for hver x\n",
    "\n",
    "plt.title (\"Graf for funksjonen f(x) = -x2 - 5\")\n",
    "plt.xlabel(\"x\")\n",
    "plt.ylabel(\"y\")\n",
    "plt.grid()\n",
    "plt.plot(x, y)\n"
   ]
  }
 ],
 "metadata": {
  "kernelspec": {
   "display_name": "Python 3 (ipykernel)",
   "language": "python",
   "name": "python3"
  },
  "language_info": {
   "codemirror_mode": {
    "name": "ipython",
    "version": 3
   },
   "file_extension": ".py",
   "mimetype": "text/x-python",
   "name": "python",
   "nbconvert_exporter": "python",
   "pygments_lexer": "ipython3",
   "version": "3.12.4"
  }
 },
 "nbformat": 4,
 "nbformat_minor": 5
}
