{
 "cells": [
  {
   "cell_type": "markdown",
   "id": "7252ac3d-6349-4283-b25f-6ed6bf12675b",
   "metadata": {},
   "source": [
    "# Arbeidskrav 2\n",
    "\n",
    "## Robert Strindin\n",
    "\n",
    "### 2025.01.17\n",
    "\n",
    "\n",
    "\n"
   ]
  },
  {
   "cell_type": "markdown",
   "id": "6a65bea3-92b5-48b3-9e6c-1a740ea2f05b",
   "metadata": {},
   "source": [
    "### Oppgave 1\n",
    "\n",
    "Programmet skal så regne ut hvor gammel personen blir nå i løpet av år 2024 og skrive\r\n",
    "svaret til skjerm med passende tekst."
   ]
  },
  {
   "cell_type": "code",
   "execution_count": 4,
   "id": "6dbda0b5-9fd8-4ce1-a8ac-5526ae87fd5d",
   "metadata": {},
   "outputs": [
    {
     "name": "stdin",
     "output_type": "stream",
     "text": [
      "Hvilket år er du født? 1970\n"
     ]
    },
    {
     "name": "stdout",
     "output_type": "stream",
     "text": [
      "I løpat av 2024 fyller du 54 år\n"
     ]
    }
   ],
   "source": [
    "alder = int(input('Hvilket år er du født?'))\n",
    "\n",
    "alder = 2024 - alder\n",
    "\n",
    "print ('I løpat av 2024 fyller du', alder, 'år')"
   ]
  },
  {
   "cell_type": "markdown",
   "id": "08620df8-1271-417d-8cba-3c38dc5b2d89",
   "metadata": {},
   "source": [
    "### Oppgave 2\n",
    "\n",
    "Det skal arrangeres en klassefest og man antar at hver elev spiser 1/4 pizza. Lag et\r\n",
    "program som tar inn antall elever fra konsollen \n",
    "Programmet skal så regne ut hvor mange pizzaer som skal handles inn til festen og skrive\r\n",
    "svaret til skjerm. Merk, man kan ikke kjøpe 4 og en kvart pizza på butikken (man må da kjøpe\r\n",
    "5).\n"
   ]
  },
  {
   "cell_type": "code",
   "execution_count": 34,
   "id": "402761f8-d6a0-4702-804b-e6608d6529a0",
   "metadata": {},
   "outputs": [
    {
     "name": "stdin",
     "output_type": "stream",
     "text": [
      "Skriv inn antall elever: 13\n"
     ]
    },
    {
     "name": "stdout",
     "output_type": "stream",
     "text": [
      "Det må kjøpes inn 4 pizzaer.\n"
     ]
    }
   ],
   "source": [
    "import numpy as np\n",
    "\n",
    "andel_pizza_pr_elev = 1/4   # Hver elev spiser 1/4 pizza hver\n",
    "\n",
    "antall_elever = int(input('Skriv inn antall elever:'))\n",
    "\n",
    "antall_pizzaer = np.ceil(antall_elever * andel_pizza_pr_elev)  # Antall hele pizzaer som må bestilles\n",
    "\n",
    "print (f'Det må kjøpes inn {int(antall_pizzaer)} pizzaer.')\n"
   ]
  },
  {
   "cell_type": "markdown",
   "id": "16c638d7-0e5f-4da7-bc1e-477dbc7bf407",
   "metadata": {},
   "source": [
    "### Oppgave 3\n",
    "\n",
    "Lag et program med en funksjon som regner om fra grader til radianer."
   ]
  },
  {
   "cell_type": "code",
   "execution_count": 40,
   "id": "fb87d8ef-a939-455b-9c3b-435fe909bb26",
   "metadata": {},
   "outputs": [
    {
     "name": "stdin",
     "output_type": "stream",
     "text": [
      "Skriv inn gradtallet: 12\n"
     ]
    },
    {
     "name": "stdout",
     "output_type": "stream",
     "text": [
      "12.00 grader = 0.21 radianer.\n"
     ]
    }
   ],
   "source": [
    "import numpy as np\n",
    "\n",
    "def gradTilRad (grad):\n",
    "    return grad*np.pi/180\n",
    "\n",
    "v_grad = float(input('Skriv inn gradtallet:'))\n",
    "v_rad = gradTilRad (v_grad)\n",
    "\n",
    "print (f'{v_grad:.2f} grader = {v_rad:.2f} radianer.')"
   ]
  },
  {
   "cell_type": "markdown",
   "id": "34f0fcab-68a7-4a52-b9e5-393dd2d83bb1",
   "metadata": {},
   "source": [
    "#### Oppgave 4\n",
    "\n"
   ]
  },
  {
   "cell_type": "markdown",
   "id": "8b0e2a4c-9f91-467c-8f58-60d3b515dc14",
   "metadata": {},
   "source": [
    "#### Oppgave 5\n",
    "\n"
   ]
  },
  {
   "cell_type": "markdown",
   "id": "1ffa7eab-7207-462a-89c0-cfba8208e82e",
   "metadata": {},
   "source": [
    "#### Oppgave 6\n",
    "\n"
   ]
  }
 ],
 "metadata": {
  "kernelspec": {
   "display_name": "Python 3 (ipykernel)",
   "language": "python",
   "name": "python3"
  },
  "language_info": {
   "codemirror_mode": {
    "name": "ipython",
    "version": 3
   },
   "file_extension": ".py",
   "mimetype": "text/x-python",
   "name": "python",
   "nbconvert_exporter": "python",
   "pygments_lexer": "ipython3",
   "version": "3.12.3"
  }
 },
 "nbformat": 4,
 "nbformat_minor": 5
}
